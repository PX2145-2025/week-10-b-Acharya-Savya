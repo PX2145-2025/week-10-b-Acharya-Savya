{
 "cells": [
  {
   "cell_type": "markdown",
   "metadata": {},
   "source": [
    "# Feedback from previous weeks and other and hints\n",
    "\n",
    "1. Be careful about your environment remembering variables. Make sure your code works in a new _clean_ environment. In Colab: `Runtime`->`restart Runtime`, in Anaconda's Jupyter: `Kernel`->`Restart`.\n",
    "2. Keep the file names when saving to GitHub. It's always possible to go back to a previous version, you are not losing anything.\n",
    "3. Run all the cells before saving to GitHub so the output is saved.\n",
    "4. Graphs without labels (or units when appropriate) are not worth any point.\n",
    "5. Do put in sufficient explanatory comments in your code.\n",
    "\n",
    "For this week you can use these imports at the start of your programs:"
   ]
  },
  {
   "cell_type": "code",
   "execution_count": 2,
   "metadata": {},
   "outputs": [],
   "source": [
    "import matplotlib.pyplot as plt \n",
    "import numpy as np\n",
    "from numpy.fft import fft, ifft"
   ]
  },
  {
   "cell_type": "markdown",
   "metadata": {},
   "source": [
    "# Introduction\n",
    "\n",
    "One of the most important concepts in the analysis of signals is the _Fourier transform_:\n",
    "\n",
    "$$\n",
    "X(f)=\\int_{-\\infty}^{\\infty} x(t)\\,e^{-i2\\pi ft}\\,dt\n",
    "\\label{eq:1}\n",
    "\\tag{1}\n",
    "$$\n",
    "\n",
    "which gives the component $X(f)$ at a frequency $f$ of any signal $x(t)$. So if $x(t)$ corresponds to a sound, then $X(f)$ are the frequency components of the sound.\n",
    "Of course, the original signal can be written in terms of the frequency components again:\n",
    "\n",
    "$$\n",
    "x(t)=\\int_{-\\infty}^{\\infty} X(f)\\,e^{i2\\pi ft}\\,df\n",
    "\\label{eq:2}\n",
    "\\tag{2}\n",
    "$$\n",
    "\n",
    "The proof of the above pair of equations, called a Fourier transform pair, is something that you will see elsewhere, such as PX2232 Optics.\n",
    "An equivalent way you will often see of writing the Fourier pair is to use angular frequency $\\omega = 2\\pi\\,f$ instead, so that $df = d\\omega/2\\pi$. Then the above equations can be expressed:\n",
    "\n",
    "$$\n",
    "\\begin{aligned}\n",
    "X(\\omega) &= \\int_{-\\infty}^{\\infty} x(t)\\,e^{-i\\omega t}\\,dt \\\\\n",
    "x(t) &= \\frac{1}{2\\pi}\\int_{-\\infty}^{\\infty} X(\\omega)\\,e^{i\\omega t}\\,d\\omega\n",
    "\\end{aligned}\n",
    "\\label{eq:3}\n",
    "\\tag{3}\n",
    "$$\n",
    "\n",
    "(Sometimes this pair is defined so that $1/\\sqrt{2\\pi}$ is the prefactor in each equation instead of $1$ and $1/2\\pi$, but it’s still the same idea.) We’ll use the first two equations, expressed using ordinary frequency $f$, from now on.\n",
    "In general, both the functions $x(t)$ and $X(f)$ are complex.\n",
    "\n",
    "![Figure 1](https://raw.githubusercontent.com/PX2134/images/master/week10/figure1.png)\n",
    "\n",
    "Figure 1: Representation of the Fourier transform as a linear projection operation.\n",
    "\n",
    "\n",
    "## Real data\n",
    "\n",
    "Although the above equations work even for $x(t)$ complex, most often we deal with real data (such as displacement of position for a wave on a string). Expanding the real and imaginary parts of the first equation (Eq. [1](#mjx-eqn-eq:1)) it is simple to see that, if $x(t)$ is real, then\n",
    "\n",
    "$$\n",
    "X(-f) = X^*(f)\n",
    "\\label{eq:4}\n",
    "\\tag{4}\n",
    "$$\n",
    "\n",
    "Thus if we express $X(f)$ in terms of its real and imaginary parts, $X(f) = X_r(f)+iX_i(f)$, we have:\n",
    "\n",
    "$$\n",
    "\\begin{aligned}\n",
    "X_r(-f) &= X_r(f) \\\\\n",
    "X_i(-f) &= -X_i(f)\n",
    "\\end{aligned}\n",
    "\\label{eq:5}\n",
    "\\tag{5}\n",
    "$$\n",
    "\n",
    "Proof: expand the exponential:\n",
    "\n",
    "$$\n",
    "e^{-i2\\pi ft} = \\cos(2\\pi ft) - i \\sin( 2\\pi ft)\n",
    "\\label{eq:6}\n",
    "\\tag{6}\n",
    "$$\n",
    "\n",
    "so that the real and imaginary parts of equation (Eq. [1](#mjx-eqn-eq:1)) can be written\n",
    "\n",
    "$$\n",
    "\\begin{aligned}\n",
    "X_r(f) &= \\int_{-\\infty}^{\\infty} x(t)\\cos(2\\pi ft) dt \\\\\n",
    "X_i(f) &= -\\int_{-\\infty}^{\\infty} x(t)\\sin( 2\\pi ft) dt\n",
    "\\end{aligned}\n",
    "\\label{eq:7}\n",
    "\\tag{7}\n",
    "$$\n",
    "\n",
    "The first integral is even in $f$ and the second is odd.\n",
    "\n",
    "This means that we don’t usually bother to plot the negative frequency components when\n",
    "transforming real data, since we know what they must be.\n",
    "\n",
    "## Interpretation of the transform\n",
    "\n",
    "Since the function $X(f)$ is in general complex (even if $x(t)$ is real) we wrote it above as $X(f)= X_r(f)+iX_i(f)$. Physically what does this mean? How can we have complex frequency components? We write the equation (Eq. [2](#mjx-eqn-eq:2)) out using $X_r$ and $X_i$ to give:\n",
    "\n",
    "$$\n",
    "\\begin{aligned}\n",
    "x(t) &= \\int_{-\\infty}^{\\infty} X(f)\\,e^{i2\\pi ft}\\,df = \\int_{-\\infty}^{\\infty} \\left[ Xr(f)+iXi(f) \\right] e^{i2\\pi ft}\\,df \\\\\n",
    " &= \\int_{-\\infty}^{\\infty} X_r(f) \\cos(2\\pi ft)\\,df - \\int_{-\\infty}^{\\infty} X_i(f) \\sin(2\\pi ft)\\,df\n",
    "\\end{aligned}\n",
    "\\label{eq:8}\n",
    "\\tag{8}\n",
    "$$\n",
    "\n",
    "(the two imaginary terms vanish by equation (Eq. [5](#mjx-eqn-eq:5)), as they should since $x(t)$ is real). So the Fourier transform consists of an expansion in terms of cosine and sine waves: this is required because the _phase_ of the signal as well as its _amplitude_ must be allowed for.\n",
    "\n",
    "Alternatively (and the most common way) we can write $X = \\mid X \\mid e^{i\\theta}$ to give\n",
    "\n",
    "$$\n",
    "x(t)= \\int_{-\\infty}^{\\infty} \\mid X(f) \\mid e^{i(2\\pi ft+\\theta)} df\n",
    "\\label{eq:9}\n",
    "\\tag{9}\n",
    "$$\n",
    "\n",
    "By equation (Eq. [4](#mjx-eqn-eq:4)) clearly\n",
    "\n",
    "$$\n",
    "\\begin{aligned}\n",
    "\\mid X(-f) \\mid &= \\mid X(f) \\mid \\\\\n",
    "\\theta(-f) &= -\\theta(f)\n",
    "\\end{aligned}\n",
    "\\label{eq:10}\n",
    "\\tag{10}\n",
    "$$\n",
    "\n",
    "Usually we present the Fourier transform in this way, and plot just $\\mid X(f)\\mid$ for just positive frequencies if transforming real signals. This is illustrated in figure 2(a).\n",
    "\n",
    "## Real, sampled data\n",
    "\n",
    "The Fourier transform (FT) equation (Eq. [1](#mjx-eqn-eq:1)) can be evaluated on a computer, and there are routines available in numpy to do so. Numerically, the data corresponding to $x(t)$ will be given as a series of points, not continuous values. So in practice we must transform _sampled_ data stored as an array $[x_0,x_1,x_2...]$ of points, taken at equal time intervals $\\Delta t$ apart. (This is what we usually get from an experiment.)\n",
    "\n",
    "A consequence of this sampling is that the FT is periodic, meaning that $X(f)$ repeats in ‘frequency space’ at the sampling rate $F_s = 1/\\Delta t$. See figure 2(b). (The reason for this repetition is discussed later in PX2232, but is proved by multiplying $x(t)$ in equation (Eq. [1](#mjx-eqn-eq:1)) by a periodic series of Dirac delta functions, then Fourier transforming.)\n",
    "\n",
    "It follows, very importantly, that we must sample a signal at a fast enough rate to ensure that we cover a large enough frequency range to examine our signal. It’s not just that we would miss out on the higher frequency components that might be of interest - if higher frequencies are present in the pre-sampled signal, they actually appear in the transformed signal in the wrong place: this is known as _aliasing_. (In experiments, data is usually sampled after the signal goes through an analog _anti-aliasing filter_ to remove these higher frequencies.)\n",
    "\n",
    "## Real, finite data range\n",
    "\n",
    "In a computer implementation of the Fourier transform equations, we can have only a finite range of data, i.e. covering a finite time interval $\\tau$, as illustrated in figure 2(c). This has the effect of broadening otherwise infinitely sharp peaks, unless $\\tau$ happens to match exactly the period of the underlying signal(s). (The reason for this is again discussed in PX2232. The proof is based on multiplying $x(t)$ in equation (Eq. [1](#mjx-eqn-eq:1)) by a top-hat function, and considering a ‘convolution’ in frequency space.)\n",
    "\n",
    "Since we furthermore have sampled data, there will be a fixed number $N$ of points in this time interval. The effect on the transform is shown in figure 2(d).\n",
    "\n",
    "## Real, periodic data\n",
    "\n",
    "Since the data we possess must be recorded over a finite time window $\\tau$, we in fact can assume anything we like for the data outside this time interval (The Fourier transform components will still represent the known signal in the finite window exactly). The maths becomes far simpler if let the $x$ data itself repeat periodically outside this window, since this results in a Fourier _series_. In other words, only certain discrete frequencies are needed to represent the original signal if we use this assumption. The frequencies are all multiples of the $1/\\tau$, so the point separation in frequency space is $\\Delta f = 1/\\tau$. This is also illustrated, in figure 2(e).\n",
    "\n",
    "## The discrete Fourier transform\n",
    "\n",
    "In the actual computer implementation, we take $N$ sampled points, at sampling rate $F_s = 1/\\Delta t$, and the data is taken as repeating with period $\\tau = N\\Delta t$. This results in a discrete Fourier transform or DFT, illustrated in figure 2(f), with $N$ points repeating with frequency $F_s$.\n",
    "\n",
    "**Note**: the interval between frequency points is $\\Delta f = F_s/N = 1/N\\Delta t = 1/\\tau$ as expected.\n",
    "\n",
    "Some years ago (in 1965 by J. Cooley and J. Tukey) it was discovered that the DFT could be sped up hugely by clever programming; this implementation, called the fast Fourier transform or FFT, is almost always employed in Fourier transforming data.\n",
    "\n",
    "![Figure 2](https://raw.githubusercontent.com/PX2134/images/master/week10/figure2.png)\n",
    "\n",
    "Figure 2: Figure after http://dx.doi.org/10.1119/1.10128 (a) Continuous cosine data $x(t)$ of infinite extent at a single frequency $f_0$, and its transform. (b) Sampled data and resulting periodicity (or _Nyquist aliases_). (c) Continuous data in a finite window broadens the FT peaks. (d) Sampling the data of (c) results in Nyquist aliases, thus combining (b) and (c). (e) Periodically continued wave form and resulting _discrete_ Fourier _series_. (f) sampled data in a finite window, with periodic continuation assumed; the resulting spectrum obtained is a discrete Fourier transform and is a sample of the spectrum in (d)."
   ]
  },
  {
   "cell_type": "markdown",
   "metadata": {},
   "source": [
    "\n",
    "\n",
    "Mathematically, the DFT pair normally used is (where $k, n = 0, . . . , N - 1$)\n",
    "\n",
    "$$\n",
    "\\begin{aligned}\n",
    "X_k &= \\sum_{n=0}^{N-1} x_n e^{-i2\\pi nk/N} \\\\\n",
    "x_n &= \\frac{1}{N}\\sum_{k=0}^{N-1} X_k e^{i2\\pi kn/N}\n",
    "\\end{aligned}\n",
    "\\label{eq:11}\n",
    "\\tag{11}\n",
    "$$\n",
    "\n",
    "## Summary\n",
    "\n",
    "To help clarify all this, figure 2 is a useful summary. The Fourier transform algorithms you will find implemented in the computer are almost always an FFT, shown in figure 2(f).\n",
    "\n",
    "The important key points to recall are:\n",
    "\n",
    " 1. the FFT operates on a set of $N$ data points with sample rate $F_s$ (so the time separation is $\\Delta t = 1/F_s$).\n",
    " 2. The transform consists of N data points covering the frequency range $F_s$ (so the frequency separation is $\\Delta f = F_s/N$).\n",
    " 3. Both the original $x$ points and the transformed $X$ points are periodically repeated.\n",
    "\n",
    "The DFT or FFT is a good representation of the ‘true’ ordinary FT when the sampling rate is fast enough (so that high frequencies are not aliased) and the data length is large enough (so that the frequency resolution is high).\n",
    "\n",
    "# Implementation\n",
    "\n",
    "## Complex numbers\n",
    "\n",
    "In python, the complex number $i$ is written `j`, e.g.:"
   ]
  },
  {
   "cell_type": "code",
   "execution_count": 3,
   "metadata": {},
   "outputs": [],
   "source": [
    "a=2.0+3.0j\n",
    "b=-0.4+0.2j"
   ]
  },
  {
   "cell_type": "markdown",
   "metadata": {},
   "source": [
    "You can use standard operations with those numbers, and access complex-number-specific methods:"
   ]
  },
  {
   "cell_type": "code",
   "execution_count": 4,
   "metadata": {},
   "outputs": [
    {
     "name": "stdout",
     "output_type": "stream",
     "text": [
      "(1.6+3.2j)\n",
      "(-1.4000000000000001-0.8000000000000002j)\n",
      "2.0\n",
      "2.0\n",
      "0.2\n",
      "3.605551275463989\n",
      "2.677945044588987\n"
     ]
    }
   ],
   "source": [
    "print(a+b) # addition\n",
    "print(a*b) # multiplication\n",
    "print(np.real(a)) # the real part via the \"function\"\n",
    "print(a.real) # the real part via the \"method\"\n",
    "print(b.imag) # imaginary part\n",
    "print(np.abs(a)) # absolute value (or modulus or magnitude)\n",
    "print(np.angle(b)) #argument (in many applications referred to as the \"phase\")"
   ]
  },
  {
   "cell_type": "markdown",
   "metadata": {},
   "source": [
    "## FFT\n",
    "\n",
    "There are several FFT [algorithms](http://docs.scipy.org/doc/numpy/reference/routines.fft.html) which are simple to use. We’ll just use fft and ifft. First set up a data array to test out the method:"
   ]
  },
  {
   "cell_type": "code",
   "execution_count": 5,
   "metadata": {},
   "outputs": [
    {
     "name": "stdout",
     "output_type": "stream",
     "text": [
      "[0.    0.625 1.25  1.875 2.5   3.125 3.75  4.375 5.    5.625 6.25  6.875\n",
      " 7.5   8.125 8.75  9.375]\n"
     ]
    },
    {
     "data": {
      "image/png": "[encoded data removed]",
      "text/plain": [
       "<Figure size 432x288 with 1 Axes>"
      ]
     },
     "metadata": {},
     "output_type": "display_data"
    }
   ],
   "source": [
    "# Examine a small number of points to see what happens more easily\n",
    "N=16 # the fft algorithm is fastest for N a power of 2\n",
    "tau = 10.0 # time length\n",
    "t = np.linspace(0, tau, N, endpoint=False) # creates N points to cover tau seconds\n",
    "# Choose endpoint False so that signal would fit exactly periodically within tau\n",
    "print(t)\n",
    "#\n",
    "f = 0.2 # frequency in Hz\n",
    "x = np.cos(2*np.pi*f*t) # create x array, amplitude 1.0 \n",
    "plt.plot(x)\n",
    "plt.plot(x, 'o') # show as points and line \n",
    "# Note how the plot is exactly periodic\n",
    "\n",
    "plt.title('Single cosine wave sampled at {} points'.format(N))\n",
    "plt.xlabel('point number')\n",
    "plt.ylabel('x(N)')\n",
    "plt.grid()"
   ]
  },
  {
   "cell_type": "markdown",
   "metadata": {},
   "source": [
    "This sets up a cosine wave of just 16 points, so it looks a bit rough when plotted out, but it helps us to see better what happens when we look at the FFT. Use this code snippet to do the FFT:"
   ]
  },
  {
   "cell_type": "code",
   "execution_count": 6,
   "metadata": {},
   "outputs": [
    {
     "name": "stdout",
     "output_type": "stream",
     "text": [
      "[ 1.24474906e-17+0.00000000e+00j -8.73114191e-17+5.19299245e-17j\n",
      "  5.00000000e-01-1.72254642e-16j  1.69824100e-17-7.40843115e-17j\n",
      "  1.53080850e-17-2.77555756e-17j  2.63153929e-17-7.40843115e-17j\n",
      "  5.55111512e-17-4.97899625e-17j  4.40136163e-17+5.19299245e-17j\n",
      " -4.30636606e-17+0.00000000e+00j  4.40136163e-17-5.19299245e-17j\n",
      "  5.55111512e-17+4.97899625e-17j  2.63153929e-17+7.40843115e-17j\n",
      "  1.53080850e-17+2.77555756e-17j  1.69824100e-17+7.40843115e-17j\n",
      "  5.00000000e-01+1.72254642e-16j -8.73114191e-17-5.19299245e-17j]\n"
     ]
    },
    {
     "data": {
      "image/png": "[encoded data removed]",
      "text/plain": [
       "<Figure size 432x288 with 1 Axes>"
      ]
     },
     "metadata": {},
     "output_type": "display_data"
    }
   ],
   "source": [
    "X = fft(x)/N # fft and normalise \n",
    "plt.plot(np.abs(X),'o')\n",
    "plt.title('FFT of above cosine wave sampled at '+str(N)+' points') \n",
    "plt.xlabel('point number')\n",
    "plt.ylabel('$\\mid X(N)\\mid$')\n",
    "plt.grid()\n",
    "print(X)"
   ]
  },
  {
   "cell_type": "markdown",
   "metadata": {},
   "source": [
    "Two things to notice:\n",
    "\n",
    " 1. Point 0 is the zero frequency component, points 1 to 8 are the positive frequency components, points 9 to 15 are the negative frequency components. To put the latter in the ‘correct’ position we can reorder them, so that point 15 appears effectively in the -1 position, point 14 in the -2 position, and so on (since the FT is periodic with period $F_s$, there isn’t really a ‘correct’ interval any more. The algorithm returns the interval $0$ to $F_s$, but you might prefer $-F_s/2$ to $F_s/2$. You will meet exactly this idea in describing periodic crystal structures, where the FT is actually the reciprocal lattice). \n",
    "\n",
    " But since the negative frequency components just repeat the positive ones (as the array $x$ is real) we can just ignore them.\n",
    "\n",
    "\n",
    " 2. Printing $X$ shows that it has real and imaginary parts, but that the imaginary part is zero within numerical error. This is because we picked a cosine wave as the test data.\n",
    "\n",
    "The _wrapper_ function to the fft below is handy as it returns not just the Fourier amplitudes but also the corresponding frequencies. (There are actually other ways to do it using numpy directly, but it helps to show these details.)"
   ]
  },
  {
   "cell_type": "code",
   "execution_count": 7,
   "metadata": {},
   "outputs": [],
   "source": [
    "def Spectrum1(x, Fs):\n",
    "    '''\n",
    "    One-sided amplitude spectrum of x(t).\n",
    "    '''\n",
    "    N = len(x) # length of the signal\n",
    "    frq = (float(Fs)/N)*np.arange(0, N/2+1) # one-sided frequency range \n",
    "    X = fft(x)/N # fft computing and normalization\n",
    "    X = X[0:N//2+1] # take just positive values \n",
    "    # (in python3, // ensures integer division)\n",
    "    \n",
    "    # frq is array of actual frequencies\n",
    "    # X is complex array of amplitudes \n",
    "    return frq , X"
   ]
  },
  {
   "cell_type": "markdown",
   "metadata": {},
   "source": [
    "The division by $N$ normalisation is there because the `fft` is implemented by numpy with a different pre-factor, equation (11); putting it in gives agreement with the ordinary Fourier transform amplitudes defined earlier. (There is no uniform convention on defining the prefactors.) Later, we’ll see that we have to multiply by $N$ again before doing the inverse discrete Fourier transform `ifft`."
   ]
  },
  {
   "cell_type": "markdown",
   "metadata": {},
   "source": [
    "# Exercises\n",
    "\n",
    "Mark weighting is in brackets. **Save your work to GitHub after having run all cells with `Runtime` -> `Restart and run all`. And do not change the notebook's filename.** Do add comments to your code, you'll lose points if your code is hard to understand. Graphs without labels (or units when appropriate) are not worth any point.\n",
    "\n",
    "Read section Implementation above and do the following exercises.\n",
    "\n",
    "## Exercise 0\n",
    "\n",
    "See LearningCentral for an example video of a simple Fourier analysis.\n",
    "\n",
    "## Exercise 1\n",
    "[2] Plot the original signal $x$ against time instead of point number. (Use N=64 points.)"
   ]
  },
  {
   "cell_type": "code",
   "execution_count": null,
   "metadata": {},
   "outputs": [],
   "source": []
  },
  {
   "cell_type": "markdown",
   "metadata": {},
   "source": [
    "\n",
    "## Exercise 2\n",
    "[2] Plot just the positive frequencies of the FFT using the `fft` routine of `numpy`. This is a plot versus point number."
   ]
  },
  {
   "cell_type": "code",
   "execution_count": null,
   "metadata": {},
   "outputs": [],
   "source": []
  },
  {
   "cell_type": "markdown",
   "metadata": {},
   "source": [
    "## Exercise 3\n",
    "\n",
    "[2] For this question **and all the following**, use the `Spectrum1` function. Calculate and plot the FFT of $x$ versus frequency. (**In the rest of the exercises just plot against frequency.**) Why is the signal amplitude you find equal to 0.5 instead of 1?\n",
    " \n",
    " Recall: The sampling rate is $F_s = 1/\\Delta t = N/\\tau$. Read the section Summary above!\n",
    "\n"
   ]
  },
  {
   "cell_type": "code",
   "execution_count": null,
   "metadata": {},
   "outputs": [],
   "source": []
  },
  {
   "cell_type": "markdown",
   "metadata": {},
   "source": [
    "## Exercise 4\n",
    "[2] Show what happens if you change the frequency of the original data to 0.22 Hz instead of 0.2 Hz. _Explain what you see to the demonstrator_.\n",
    "(Hint: It helps to plot both the real and imaginary parts of $X$, and to plot $\\mid X \\mid$.)\n",
    "\n"
   ]
  },
  {
   "cell_type": "code",
   "execution_count": null,
   "metadata": {},
   "outputs": [],
   "source": []
  },
  {
   "cell_type": "markdown",
   "metadata": {},
   "source": [
    "## Exercise 5\n",
    "\n",
    "[4] (a) Investigate what happens as you sample the original data with more points,  and (b) what happens as you increase the lenght $\\tau$ of the original data (for both 0.2 and 0.22 Hz).\n",
    "\n"
   ]
  },
  {
   "cell_type": "code",
   "execution_count": null,
   "metadata": {},
   "outputs": [],
   "source": []
  },
  {
   "cell_type": "markdown",
   "metadata": {},
   "source": [
    "## Exercise 6\n",
    "\n",
    "[4] Describe what happens to the FFT if you choose non-zero phase in the cosine waves (for both 0.2 and 0.22 Hz). (Hint: Plot both the real and imaginary parts of $X$ in one graph, and $\\mid X\\mid$ and the argument $\\arg(X)$ as a function of frequency on another graph. The function `np.angle()` will be helpful to do this.) "
   ]
  },
  {
   "cell_type": "code",
   "execution_count": null,
   "metadata": {},
   "outputs": [],
   "source": []
  },
  {
   "cell_type": "markdown",
   "metadata": {},
   "source": [
    "## Exercise 7\n",
    "\n",
    "[4] Write a function `TestData(N, Fs)` which creates $N$ points of data containing three cosine waves with amplitudes and frequencies $a_1 = 1.0, f_1 = 12.3, a_2 = 0.5, f_2 = 7.5, a_3 = 0.2, f_3 = 30.0$. Use this function to plot the FFT for N=512, 1024 and 2048 and explain the results.\n",
    "\n",
    " Recall: The time separation between points is $\\Delta t = 1/F_s$. Read the section Summary above!"
   ]
  },
  {
   "cell_type": "code",
   "execution_count": null,
   "metadata": {},
   "outputs": [],
   "source": []
  }
 ],
 "metadata": {
  "kernelspec": {
   "display_name": "Python 3",
   "language": "python",
   "name": "python3"
  },
  "language_info": {
   "codemirror_mode": {
    "name": "ipython",
    "version": 3
   },
   "file_extension": ".py",
   "mimetype": "text/x-python",
   "name": "python",
   "nbconvert_exporter": "python",
   "pygments_lexer": "ipython3",
   "version": "3.7.10"
  }
 },
 "nbformat": 4,
 "nbformat_minor": 2
}
